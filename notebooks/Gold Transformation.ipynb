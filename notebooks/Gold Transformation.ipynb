{
 "cells": [
  {
   "cell_type": "code",
   "execution_count": 0,
   "metadata": {
    "application/vnd.databricks.v1+cell": {
     "cellMetadata": {
      "byteLimit": 2048000,
      "rowLimit": 10000
     },
     "inputWidgets": {},
     "nuid": "ce10f42a-7bdf-43ac-91ab-aa70ecb6f605",
     "showTitle": false,
     "title": ""
    }
   },
   "outputs": [],
   "source": [
    "%run \"/Workspace/Users/avinashpayak@gmail.com/Common\""
   ]
  },
  {
   "cell_type": "code",
   "execution_count": 0,
   "metadata": {
    "application/vnd.databricks.v1+cell": {
     "cellMetadata": {
      "byteLimit": 2048000,
      "rowLimit": 10000
     },
     "inputWidgets": {},
     "nuid": "c1cdbc70-8469-4e47-bf1b-7320ef70a333",
     "showTitle": false,
     "title": ""
    }
   },
   "outputs": [],
   "source": [
    "env = \"dev\""
   ]
  },
  {
   "cell_type": "markdown",
   "metadata": {
    "application/vnd.databricks.v1+cell": {
     "cellMetadata": {},
     "inputWidgets": {},
     "nuid": "5437829d-d454-4765-86e6-14d688b9a1d2",
     "showTitle": false,
     "title": ""
    }
   },
   "source": [
    "\n",
    "### Read Silver_Traffic Table"
   ]
  },
  {
   "cell_type": "code",
   "execution_count": 0,
   "metadata": {
    "application/vnd.databricks.v1+cell": {
     "cellMetadata": {
      "byteLimit": 2048000,
      "rowLimit": 10000
     },
     "inputWidgets": {},
     "nuid": "98ffb30c-c5ea-460d-837a-649eacde4660",
     "showTitle": false,
     "title": ""
    }
   },
   "outputs": [],
   "source": [
    "def read_SilverTrafficTable(environment):\n",
    "    print('Reading the Silver Traffic Table Data : ',end='')\n",
    "    df_SilverTraffic = (spark.readStream\n",
    "                    .table(f\"`{environment}-catalog`.`silver`.silver_traffic\")\n",
    "                    )\n",
    "    print(f'Reading {environment}-catalog.silver.silver_traffic Success!')\n",
    "    print(\"**********************************\")\n",
    "    return df_SilverTraffic"
   ]
  },
  {
   "cell_type": "markdown",
   "metadata": {
    "application/vnd.databricks.v1+cell": {
     "cellMetadata": {},
     "inputWidgets": {},
     "nuid": "0701e30e-89db-43e2-85e6-d90905063b70",
     "showTitle": false,
     "title": ""
    }
   },
   "source": [
    "\n",
    "### Read Silver_Roads Table"
   ]
  },
  {
   "cell_type": "code",
   "execution_count": 0,
   "metadata": {
    "application/vnd.databricks.v1+cell": {
     "cellMetadata": {
      "byteLimit": 2048000,
      "rowLimit": 10000
     },
     "inputWidgets": {},
     "nuid": "d221e4a7-5bcb-40cf-832e-f9256277313e",
     "showTitle": false,
     "title": ""
    }
   },
   "outputs": [],
   "source": [
    "def read_SilverRoadsTable(environment):\n",
    "    print('Reading the Silver Table Silver_roads Data : ',end='')\n",
    "    df_SilverRoads = (spark.readStream\n",
    "                    .table(f\"`{environment}-catalog`.`silver`.silver_roads\")\n",
    "                    )\n",
    "    print(f'Reading {environment}-catalog.silver.silver_roads Success!')\n",
    "    print(\"**********************************\")\n",
    "    return df_SilverRoads"
   ]
  },
  {
   "cell_type": "markdown",
   "metadata": {
    "application/vnd.databricks.v1+cell": {
     "cellMetadata": {},
     "inputWidgets": {},
     "nuid": "ee8c8502-2b19-4151-a975-053e98cee9c6",
     "showTitle": false,
     "title": ""
    }
   },
   "source": [
    "\n",
    "### Creating vehicle intensity column"
   ]
  },
  {
   "cell_type": "code",
   "execution_count": 0,
   "metadata": {
    "application/vnd.databricks.v1+cell": {
     "cellMetadata": {
      "byteLimit": 2048000,
      "rowLimit": 10000
     },
     "inputWidgets": {},
     "nuid": "ad1d9809-f90f-473c-a973-2a77ff14e3bf",
     "showTitle": false,
     "title": ""
    }
   },
   "outputs": [],
   "source": [
    "def create_VehicleIntensity(df):\n",
    " from pyspark.sql.functions import col\n",
    " print('Creating Vehicle Intensity column : ',end='')\n",
    " df_veh = df.withColumn('Vehicle_Intensity',\n",
    "               col('Motor_Vehicles_Count') / col('Link_length_km')\n",
    "               )\n",
    " print(\"Success!!!\")\n",
    " print('***************')\n",
    " return df_veh"
   ]
  },
  {
   "cell_type": "markdown",
   "metadata": {
    "application/vnd.databricks.v1+cell": {
     "cellMetadata": {},
     "inputWidgets": {},
     "nuid": "979e4fdf-982e-4bf0-ae73-ffc1bd46195c",
     "showTitle": false,
     "title": ""
    }
   },
   "source": [
    "\n",
    "### Creating LoadTime Column"
   ]
  },
  {
   "cell_type": "code",
   "execution_count": 0,
   "metadata": {
    "application/vnd.databricks.v1+cell": {
     "cellMetadata": {
      "byteLimit": 2048000,
      "rowLimit": 10000
     },
     "inputWidgets": {},
     "nuid": "e9d304c5-fe20-49dc-b888-0f56405e8fab",
     "showTitle": false,
     "title": ""
    }
   },
   "outputs": [],
   "source": [
    "def create_LoadTime(df):\n",
    "    from pyspark.sql.functions import current_timestamp\n",
    "    print('Creating Load Time column : ',end='')\n",
    "    df_timestamp = df.withColumn('Load_Time',\n",
    "                      current_timestamp()\n",
    "                      )\n",
    "    print('Success!!')\n",
    "    print('**************')\n",
    "    return df_timestamp"
   ]
  },
  {
   "cell_type": "markdown",
   "metadata": {
    "application/vnd.databricks.v1+cell": {
     "cellMetadata": {},
     "inputWidgets": {},
     "nuid": "da43d60c-a0a4-492a-810d-824d3d1f30b4",
     "showTitle": false,
     "title": ""
    }
   },
   "source": [
    "\n",
    "### Writing Data to Gold Traffic"
   ]
  },
  {
   "cell_type": "code",
   "execution_count": 0,
   "metadata": {
    "application/vnd.databricks.v1+cell": {
     "cellMetadata": {
      "byteLimit": 2048000,
      "rowLimit": 10000
     },
     "inputWidgets": {},
     "nuid": "eafebdb8-5fcf-4e3e-bbb6-62c7bf9253f9",
     "showTitle": false,
     "title": ""
    }
   },
   "outputs": [],
   "source": [
    "def write_Traffic_GoldTable(StreamingDF,environment):\n",
    "    print('Writing the gold_traffic Data : ',end='') \n",
    "\n",
    "    write_gold_traffic = (StreamingDF.writeStream\n",
    "                .format('delta')\n",
    "                .option('checkpointLocation',checkpoint+ \"GoldTrafficLoad/Checkpt/\")\n",
    "                .outputMode('append')\n",
    "                .queryName(\"GoldTrafficWriteStream\")\n",
    "                .trigger(availableNow=True)\n",
    "                .toTable(f\"`{environment}-catalog`.`gold`.`gold_traffic`\"))\n",
    "    \n",
    "    write_gold_traffic.awaitTermination()\n",
    "    print(f'Writing `{environment}-catalog`.`gold`.`gold_traffic` Success!')"
   ]
  },
  {
   "cell_type": "markdown",
   "metadata": {
    "application/vnd.databricks.v1+cell": {
     "cellMetadata": {},
     "inputWidgets": {},
     "nuid": "5ae6413a-16f4-4f63-b861-f72d4ecfea33",
     "showTitle": false,
     "title": ""
    }
   },
   "source": [
    "\n",
    "### Write Data to Gold Roads"
   ]
  },
  {
   "cell_type": "code",
   "execution_count": 0,
   "metadata": {
    "application/vnd.databricks.v1+cell": {
     "cellMetadata": {
      "byteLimit": 2048000,
      "rowLimit": 10000
     },
     "inputWidgets": {},
     "nuid": "c3f32c38-e115-489e-b260-94e3c62e40e3",
     "showTitle": false,
     "title": ""
    }
   },
   "outputs": [],
   "source": [
    "def write_Roads_GoldTable(StreamingDF,environment):\n",
    "    print('Writing the gold_roads Data : ',end='') \n",
    "\n",
    "    write_gold_roads = (StreamingDF.writeStream\n",
    "                .format('delta')\n",
    "                .option('checkpointLocation',checkpoint+ \"GoldRoadsLoad/Checkpt/\")\n",
    "                .outputMode('append')\n",
    "                .queryName(\"GoldRoadsWriteStream\")\n",
    "                .trigger(availableNow=True)\n",
    "                .toTable(f\"`{environment}-catalog`.`gold`.`gold_roads`\"))\n",
    "    \n",
    "    write_gold_roads.awaitTermination()\n",
    "    print(f'Writing `{environment}-catalog`.`gold`.`gold_roads` Success!')"
   ]
  },
  {
   "cell_type": "markdown",
   "metadata": {
    "application/vnd.databricks.v1+cell": {
     "cellMetadata": {},
     "inputWidgets": {},
     "nuid": "eded32d8-03ff-4bcf-a51d-93b6e590d4c1",
     "showTitle": false,
     "title": ""
    }
   },
   "source": [
    "\n",
    "### Calling functions"
   ]
  },
  {
   "cell_type": "code",
   "execution_count": 0,
   "metadata": {
    "application/vnd.databricks.v1+cell": {
     "cellMetadata": {
      "byteLimit": 2048000,
      "rowLimit": 10000
     },
     "inputWidgets": {},
     "nuid": "15c8ea14-fa96-4397-9f70-4f4e51bc08a7",
     "showTitle": false,
     "title": ""
    }
   },
   "outputs": [
    {
     "output_type": "stream",
     "name": "stdout",
     "output_type": "stream",
     "text": [
      "Reading the Silver Traffic Table Data : Reading dev-catalog.silver.silver_traffic Success!\n**********************************\nReading the Silver Table Silver_roads Data : Reading dev-catalog.silver.silver_roads Success!\n**********************************\nCreating Vehicle Intensity column : Success!!!\n***************\nCreating Load Time column : Success!!\n**************\nCreating Load Time column : Success!!\n**************\nWriting the gold_traffic Data : Writing `dev-catalog`.`gold`.`gold_traffic` Success!\nWriting the gold_roads Data : Writing `dev-catalog`.`gold`.`gold_roads` Success!\n"
     ]
    }
   ],
   "source": [
    "## Reading from Silver tables\n",
    "df_SilverTraffic = read_SilverTrafficTable(env)\n",
    "df_SilverRoads = read_SilverRoadsTable(env)\n",
    "    \n",
    "## Tranformations     \n",
    "df_vehicle = create_VehicleIntensity(df_SilverTraffic)\n",
    "df_FinalTraffic = create_LoadTime(df_vehicle)\n",
    "df_FinalRoads = create_LoadTime(df_SilverRoads)\n",
    "\n",
    "## Writing to gold tables    \n",
    "write_Traffic_GoldTable(df_FinalTraffic,env)\n",
    "write_Roads_GoldTable(df_FinalRoads,env)"
   ]
  }
 ],
 "metadata": {
  "application/vnd.databricks.v1+notebook": {
   "dashboards": [],
   "environmentMetadata": {
    "base_environment": "",
    "client": "1"
   },
   "language": "python",
   "notebookMetadata": {
    "pythonIndentUnit": 4
   },
   "notebookName": "Gold Transformation",
   "widgets": {}
  }
 },
 "nbformat": 4,
 "nbformat_minor": 0
}
